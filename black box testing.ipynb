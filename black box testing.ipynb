{
 "cells": [
  {
   "cell_type": "code",
   "execution_count": 1,
   "metadata": {},
   "outputs": [
    {
     "name": "stdin",
     "output_type": "stream",
     "text": [
      "Enter Month of Number bettwen 1 to 12  : 7\n"
     ]
    },
    {
     "name": "stdout",
     "output_type": "stream",
     "text": [
      "It has been choosen Month of July\n"
     ]
    }
   ],
   "source": [
    "#Black Box Texting for Choosing Month of Date\n",
    "# 01 = January, 2= February, 3= March, 4= April, 5=May , 6=Jun, 7=July, 8=August, 9=September, 10= October, 11= November, 12= December \n",
    "\n",
    "\n",
    "while True:\n",
    "    value = input('Enter Month of Number bettwen 1 to 12  :')\n",
    "    try:\n",
    "        value = int(value)\n",
    "    except ValueError:\n",
    "        print ('Valid month of number, please')\n",
    "        continue\n",
    "    if value==1:\n",
    "        print('It has been choosen Month of January')\n",
    "        break\n",
    "    elif value==2:\n",
    "        print('It has been choosen Month of February')\n",
    "        break\n",
    "    elif value==3:\n",
    "        print('It has been choosen Month of March')\n",
    "        break\n",
    "    elif value==4:\n",
    "        print('It has been choosen Month of April')\n",
    "        break\n",
    "    elif value==5:\n",
    "        print('It has been choosen Month of May')\n",
    "        break\n",
    "    elif value==6:\n",
    "        print('It has been choosen Month of Jun')\n",
    "        break\n",
    "    elif value==7:\n",
    "        print('It has been choosen Month of July')\n",
    "        break\n",
    "    elif value==8:\n",
    "        print('It has been choosen Month of August')\n",
    "        break\n",
    "    elif value==9:\n",
    "        print('It has been choosen Month of September')\n",
    "        break\n",
    "    elif value==10:\n",
    "        print('It has been choosen Month of October')\n",
    "        break\n",
    "    elif value==11:\n",
    "        print('It has been choosen Month of November')\n",
    "        break\n",
    "    elif value==2:\n",
    "        print('It has been choosen Month of December')\n",
    "        break\n",
    "\n",
    "    else:\n",
    "        print ('Month of number plesea between 1 to 12')\n",
    "        "
   ]
  },
  {
   "cell_type": "code",
   "execution_count": null,
   "metadata": {},
   "outputs": [],
   "source": []
  }
 ],
 "metadata": {
  "kernelspec": {
   "display_name": "Python 3",
   "language": "python",
   "name": "python3"
  },
  "language_info": {
   "codemirror_mode": {
    "name": "ipython",
    "version": 3
   },
   "file_extension": ".py",
   "mimetype": "text/x-python",
   "name": "python",
   "nbconvert_exporter": "python",
   "pygments_lexer": "ipython3",
   "version": "3.8.8"
  }
 },
 "nbformat": 4,
 "nbformat_minor": 4
}
